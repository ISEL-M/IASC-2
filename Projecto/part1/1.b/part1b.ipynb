{
 "cells": [
  {
   "cell_type": "markdown",
   "metadata": {},
   "source": [
    "# Imports"
   ]
  },
  {
   "cell_type": "code",
   "execution_count": 2,
   "metadata": {},
   "outputs": [],
   "source": [
    "from sklearn.neural_network import MLPClassifier\n",
    "from sklearn.metrics import classification_report\n",
    "import numpy as np\n",
    "import matplotlib.pyplot as plt\n",
    "from sklearn.metrics import ConfusionMatrixDisplay\n",
    "from random import randint"
   ]
  },
  {
   "cell_type": "code",
   "execution_count": 2,
   "metadata": {},
   "outputs": [
    {
     "data": {
      "image/png": "[encoded data removed]",
      "text/plain": [
       "<Figure size 640x480 with 1 Axes>"
      ]
     },
     "metadata": {},
     "output_type": "display_data"
    }
   ],
   "source": [
    "A = np.array([[1, 1, 1, 1],\n",
    "              [1, 0, 0, 1],\n",
    "              [1, 0, 0, 1],\n",
    "              [1, 1, 1, 1]])\n",
    "\n",
    "plt.pcolormesh(A, edgecolors='k', linewidth=1)\n",
    "ax = plt.gca()\n",
    "ax.set_aspect('equal')"
   ]
  },
  {
   "cell_type": "code",
   "execution_count": 3,
   "metadata": {},
   "outputs": [
    {
     "data": {
      "image/png": "[encoded data removed]",
      "text/plain": [
       "<Figure size 640x480 with 1 Axes>"
      ]
     },
     "metadata": {},
     "output_type": "display_data"
    }
   ],
   "source": [
    "B = np.array([[1, 0, 0, 1],\n",
    "              [0, 1, 1, 0],\n",
    "              [0, 1, 1, 0],\n",
    "              [1, 0, 0, 1]])\n",
    "\n",
    "\n",
    "plt.pcolormesh(B, edgecolors='k', linewidth=1)\n",
    "ax = plt.gca()\n",
    "ax.set_aspect('equal')"
   ]
  },
  {
   "cell_type": "code",
   "execution_count": 4,
   "metadata": {},
   "outputs": [
    {
     "name": "stdout",
     "output_type": "stream",
     "text": [
      "[array([[1, 0, 0, 1],\n",
      "       [0, 1, 1, 0],\n",
      "       [0, 1, 1, 0],\n",
      "       [1, 0, 0, 1]]), array([[1, 1, 1, 1],\n",
      "       [1, 0, 0, 1],\n",
      "       [1, 0, 0, 1],\n",
      "       [1, 1, 1, 1]])]\n",
      "[[0, 1], [1, 0]]\n"
     ]
    }
   ],
   "source": [
    "from copy import copy\n",
    "\n",
    "def select_part(new_pattern, pattern):\n",
    "    part = randint(1,4)\n",
    "    if part == 1:\n",
    "        new_pattern[0:2, 0:2] = pattern[0:2, 0:2]\n",
    "\n",
    "    return new_pattern\n",
    "\n",
    "\n",
    "X=[]\n",
    "y=[]\n",
    "\n",
    "n=2\n",
    "\n",
    "for i in range(n):\n",
    "    if i>n/2-1:\n",
    "        new = A.copy()\n",
    "        new = select_part(new, B)\n",
    "        X.append(new)\n",
    "        y.append([1, 0])\n",
    "    else:\n",
    "        new = B.copy()\n",
    "        new = select_part(new, A)\n",
    "        X.append(new)\n",
    "        y.append([0, 1])\n",
    "print(X)\n",
    "print(y)"
   ]
  },
  {
   "cell_type": "code",
   "execution_count": 14,
   "metadata": {},
   "outputs": [
    {
     "name": "stdout",
     "output_type": "stream",
     "text": [
      "(8, 4, 4)\n",
      "(8, 2)\n",
      "(8, 4, 4)\n",
      "(8, 2)\n"
     ]
    }
   ],
   "source": [
    "\n",
    "\n",
    "X = np.array([\n",
    "    [[1, 1, 1, 1],\n",
    "     [1, 0, 0, 1],\n",
    "     [1, 0, 0, 1],\n",
    "     [1, 1, 1, 1]],\n",
    "\n",
    "    [[1, 1, 0, 0],\n",
    "     [1, 0, 1, 0],\n",
    "     [1, 0, 0, 1],\n",
    "     [1, 1, 1, 1]],\n",
    "\n",
    "    [[1, 0, 1, 1],\n",
    "     [1, 1, 0, 1],\n",
    "     [1, 1, 0, 1],\n",
    "     [1, 0, 1, 1]],\n",
    "    \n",
    "    [[1, 1, 1, 1],\n",
    "     [1, 0, 0, 1],\n",
    "     [1, 0, 1, 1],\n",
    "     [0, 1, 0, 1]],\n",
    "\n",
    "\n",
    "\n",
    "     \n",
    "     [[1, 1, 0, 1],\n",
    "      [0, 0, 1, 0],\n",
    "      [0, 1, 1, 0],\n",
    "      [1, 0, 0, 1]],\n",
    "     \n",
    "     [[1, 0, 0, 1],\n",
    "      [0, 1, 1, 0],\n",
    "      [0, 1, 1, 1],\n",
    "      [1, 0, 1, 1]],\n",
    "     \n",
    "     [[1, 0, 0, 1],\n",
    "      [0, 1, 1, 0],\n",
    "      [0, 0, 1, 0],\n",
    "      [1, 1, 0, 1]],\n",
    "     \n",
    "     [[1, 0, 0, 1],\n",
    "      [0, 1, 1, 0],\n",
    "      [0, 1, 1, 0],\n",
    "      [1, 0, 0, 1]]\n",
    "\n",
    "])\n",
    "\n",
    "y = np.array([\n",
    "    [1, 0],\n",
    "    [1, 0],\n",
    "    [1, 0],\n",
    "    [1, 0],\n",
    "\n",
    "    [0, 1],\n",
    "    [0, 1],\n",
    "    [0, 1],\n",
    "    [0, 1],\n",
    "    ])\n",
    "\n",
    "\n",
    "print(X.shape)\n",
    "print(y.shape)\n",
    "\n",
    "r_indexes = np.arange(len(X))\n",
    "np.random.shuffle(r_indexes)\n",
    "\n",
    "X = X[r_indexes]\n",
    "y = y[r_indexes]\n",
    "\n",
    "print(X.shape)\n",
    "print(y.shape)"
   ]
  },
  {
   "cell_type": "code",
   "execution_count": null,
   "metadata": {},
   "outputs": [],
   "source": [
    "print(X)\n",
    "print(\"-----------------------\")\n",
    "print(y)"
   ]
  },
  {
   "cell_type": "code",
   "execution_count": null,
   "metadata": {},
   "outputs": [],
   "source": [
    "def getMLP (X, y, activation=\"tanh\", random=True, r=0.001, alpha=0):\n",
    "    lastLoss = 1\n",
    "    while lastLoss > .1:\n",
    "        mlp = MLPClassifier(\n",
    "                            solver='sgd',\n",
    "                            shuffle=random,\n",
    "                            activation=activation,\n",
    "                            max_iter=500000,\n",
    "                            tol=1e-10,\n",
    "                            hidden_layer_sizes=(2,),\n",
    "                            momentum=alpha,\n",
    "                            learning_rate_init=r)\n",
    "        mlp.fit(X, y)\n",
    "        lastLoss = np.array(mlp.loss_curve_).min()\n",
    "    \n",
    "    print('Score: ', mlp.score(X, y))\n",
    "    print('Number of iterations: ', mlp.n_iter_)\n",
    "    print('Loss: ', lastLoss)\n",
    "    return mlp\n",
    "\n",
    "def plot(X, y, mlp, r=0.05, alpha=0):\n",
    "    # Plot - Loss Curve\n",
    "    losses = mlp.loss_curve_\n",
    "    plt.plot(losses)\n",
    "    plt.title(\"Loss (r = \" + str(r) + \", alpha = \" + str(alpha) + \")\")\n",
    "    plt.show()\n",
    "    \n",
    "    # Plot - Confusion Matris\n",
    "    fig = ConfusionMatrixDisplay.from_estimator(mlp, X, y)\n",
    "    fig.figure_.suptitle(\"Matriz de confusao\")\n",
    "    plt.show()"
   ]
  },
  {
   "cell_type": "code",
   "execution_count": null,
   "metadata": {},
   "outputs": [],
   "source": [
    "mlp = getMLP(X=X, y=y, _activation='tanh', alpha=1)\n",
    "plot(X=X[:3], y=y[:3] , mlp=mlp)\n",
    "ypred = mlp.predict(X)\n",
    "clr = classification_report(y, ypred)\n",
    "print(\"Classification Report:\\n----------------------\\n\", clr)"
   ]
  },
  {
   "cell_type": "code",
   "execution_count": null,
   "metadata": {},
   "outputs": [],
   "source": [
    "mlp = getMLP(X=X, y=y, _activation='relu', alpha=1)\n",
    "plot(X=X[:3], y=y[:3] , mlp=mlp)\n",
    "ypred = mlp.predict(X)\n",
    "clr = classification_report(y, ypred)\n",
    "print(\"Classification Report:\\n----------------------\\n\", clr)"
   ]
  },
  {
   "cell_type": "code",
   "execution_count": null,
   "metadata": {},
   "outputs": [],
   "source": [
    "mlp = getMLP(X=X, y=y, _activation='logistic', alpha=1)\n",
    "plot(X=X[:3], y=y[:3] , mlp=mlp)\n",
    "ypred = mlp.predict(X)\n",
    "clr = classification_report(y, ypred)\n",
    "print(\"Classification Report:\\n----------------------\\n\", clr)"
   ]
  },
  {
   "cell_type": "code",
   "execution_count": null,
   "metadata": {},
   "outputs": [],
   "source": [
    "mlp = getMLP(X=X[:3], y=y[:3], _activation='identity', alpha=1)\n",
    "plot(X=X[:3], y=y[:3] , mlp=mlp)\n",
    "ypred = mlp.predict(X[3::])\n",
    "clr = classification_report(y[3::], ypred)\n",
    "print(\"Classification Report:\\n----------------------\\n\", clr)"
   ]
  }
 ],
 "metadata": {
  "kernelspec": {
   "display_name": "Python 3.10.7 64-bit",
   "language": "python",
   "name": "python3"
  },
  "language_info": {
   "codemirror_mode": {
    "name": "ipython",
    "version": 3
   },
   "file_extension": ".py",
   "mimetype": "text/x-python",
   "name": "python",
   "nbconvert_exporter": "python",
   "pygments_lexer": "ipython3",
   "version": "3.10.8"
  },
  "orig_nbformat": 4,
  "vscode": {
   "interpreter": {
    "hash": "e7370f93d1d0cde622a1f8e1c04877d8463912d04d973331ad4851f04de6915a"
   }
  }
 },
 "nbformat": 4,
 "nbformat_minor": 2
}
